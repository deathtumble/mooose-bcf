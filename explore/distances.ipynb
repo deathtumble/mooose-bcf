{
 "cells": [
  {
   "cell_type": "code",
   "execution_count": 2,
   "metadata": {},
   "outputs": [],
   "source": [
    "import pandas\n",
    "\n",
    "df = pandas.read_csv(\"../build/output.csv\")\n"
   ]
  },
  {
   "cell_type": "code",
   "execution_count": 3,
   "metadata": {},
   "outputs": [
    {
     "data": {
      "text/plain": [
       "(1509, 6)"
      ]
     },
     "execution_count": 3,
     "metadata": {},
     "output_type": "execute_result"
    }
   ],
   "source": [
    "df.shape"
   ]
  },
  {
   "cell_type": "code",
   "execution_count": 4,
   "metadata": {},
   "outputs": [
    {
     "data": {
      "text/html": [
       "<div>\n",
       "<style scoped>\n",
       "    .dataframe tbody tr th:only-of-type {\n",
       "        vertical-align: middle;\n",
       "    }\n",
       "\n",
       "    .dataframe tbody tr th {\n",
       "        vertical-align: top;\n",
       "    }\n",
       "\n",
       "    .dataframe thead th {\n",
       "        text-align: right;\n",
       "    }\n",
       "</style>\n",
       "<table border=\"1\" class=\"dataframe\">\n",
       "  <thead>\n",
       "    <tr style=\"text-align: right;\">\n",
       "      <th></th>\n",
       "      <th>time</th>\n",
       "      <th>cad</th>\n",
       "      <th>hr</th>\n",
       "      <th>ele</th>\n",
       "      <th>lat</th>\n",
       "      <th>long</th>\n",
       "    </tr>\n",
       "  </thead>\n",
       "  <tbody>\n",
       "    <tr>\n",
       "      <th>0</th>\n",
       "      <td>1.339333e+09</td>\n",
       "      <td>69.0</td>\n",
       "      <td>96</td>\n",
       "      <td>47</td>\n",
       "      <td>53.395217</td>\n",
       "      <td>-2.359069</td>\n",
       "    </tr>\n",
       "    <tr>\n",
       "      <th>1</th>\n",
       "      <td>1.339333e+09</td>\n",
       "      <td>81.0</td>\n",
       "      <td>97</td>\n",
       "      <td>34</td>\n",
       "      <td>53.395358</td>\n",
       "      <td>-2.358560</td>\n",
       "    </tr>\n",
       "    <tr>\n",
       "      <th>2</th>\n",
       "      <td>1.339333e+09</td>\n",
       "      <td>82.0</td>\n",
       "      <td>97</td>\n",
       "      <td>28</td>\n",
       "      <td>53.395471</td>\n",
       "      <td>-2.358104</td>\n",
       "    </tr>\n",
       "    <tr>\n",
       "      <th>3</th>\n",
       "      <td>1.339333e+09</td>\n",
       "      <td>65.0</td>\n",
       "      <td>96</td>\n",
       "      <td>25</td>\n",
       "      <td>53.395553</td>\n",
       "      <td>-2.357777</td>\n",
       "    </tr>\n",
       "    <tr>\n",
       "      <th>4</th>\n",
       "      <td>1.339333e+09</td>\n",
       "      <td>0.0</td>\n",
       "      <td>95</td>\n",
       "      <td>24</td>\n",
       "      <td>53.395595</td>\n",
       "      <td>-2.357585</td>\n",
       "    </tr>\n",
       "    <tr>\n",
       "      <th>5</th>\n",
       "      <td>1.339333e+09</td>\n",
       "      <td>71.0</td>\n",
       "      <td>94</td>\n",
       "      <td>18</td>\n",
       "      <td>53.395508</td>\n",
       "      <td>-2.357405</td>\n",
       "    </tr>\n",
       "    <tr>\n",
       "      <th>6</th>\n",
       "      <td>1.339333e+09</td>\n",
       "      <td>71.0</td>\n",
       "      <td>94</td>\n",
       "      <td>18</td>\n",
       "      <td>53.395475</td>\n",
       "      <td>-2.357398</td>\n",
       "    </tr>\n",
       "    <tr>\n",
       "      <th>7</th>\n",
       "      <td>1.339333e+09</td>\n",
       "      <td>75.0</td>\n",
       "      <td>95</td>\n",
       "      <td>31</td>\n",
       "      <td>53.395242</td>\n",
       "      <td>-2.357467</td>\n",
       "    </tr>\n",
       "    <tr>\n",
       "      <th>8</th>\n",
       "      <td>1.339333e+09</td>\n",
       "      <td>71.0</td>\n",
       "      <td>98</td>\n",
       "      <td>41</td>\n",
       "      <td>53.395112</td>\n",
       "      <td>-2.357432</td>\n",
       "    </tr>\n",
       "    <tr>\n",
       "      <th>9</th>\n",
       "      <td>1.339333e+09</td>\n",
       "      <td>69.0</td>\n",
       "      <td>98</td>\n",
       "      <td>46</td>\n",
       "      <td>53.394968</td>\n",
       "      <td>-2.357382</td>\n",
       "    </tr>\n",
       "  </tbody>\n",
       "</table>\n",
       "</div>"
      ],
      "text/plain": [
       "           time   cad  hr  ele        lat      long\n",
       "0  1.339333e+09  69.0  96   47  53.395217 -2.359069\n",
       "1  1.339333e+09  81.0  97   34  53.395358 -2.358560\n",
       "2  1.339333e+09  82.0  97   28  53.395471 -2.358104\n",
       "3  1.339333e+09  65.0  96   25  53.395553 -2.357777\n",
       "4  1.339333e+09   0.0  95   24  53.395595 -2.357585\n",
       "5  1.339333e+09  71.0  94   18  53.395508 -2.357405\n",
       "6  1.339333e+09  71.0  94   18  53.395475 -2.357398\n",
       "7  1.339333e+09  75.0  95   31  53.395242 -2.357467\n",
       "8  1.339333e+09  71.0  98   41  53.395112 -2.357432\n",
       "9  1.339333e+09  69.0  98   46  53.394968 -2.357382"
      ]
     },
     "execution_count": 4,
     "metadata": {},
     "output_type": "execute_result"
    }
   ],
   "source": [
    "df.head(10)"
   ]
  },
  {
   "cell_type": "code",
   "execution_count": 5,
   "metadata": {},
   "outputs": [
    {
     "data": {
      "text/plain": [
       "<AxesSubplot:>"
      ]
     },
     "execution_count": 5,
     "metadata": {},
     "output_type": "execute_result"
    },
    {
     "data": {
      "image/png": "[encoded data removed]",
      "text/plain": [
       "<Figure size 432x288 with 1 Axes>"
      ]
     },
     "metadata": {
      "needs_background": "light"
     },
     "output_type": "display_data"
    }
   ],
   "source": [
    "df.plot.line()"
   ]
  }
 ],
 "metadata": {
  "interpreter": {
   "hash": "d066af661882557aa501ccc890746b40356ea66bca34472bba9a97051a445055"
  },
  "kernelspec": {
   "display_name": "Python 3.8.10 ('.venv': poetry)",
   "language": "python",
   "name": "python3"
  },
  "language_info": {
   "codemirror_mode": {
    "name": "ipython",
    "version": 3
   },
   "file_extension": ".py",
   "mimetype": "text/x-python",
   "name": "python",
   "nbconvert_exporter": "python",
   "pygments_lexer": "ipython3",
   "version": "3.8.10"
  },
  "orig_nbformat": 4
 },
 "nbformat": 4,
 "nbformat_minor": 2
}
